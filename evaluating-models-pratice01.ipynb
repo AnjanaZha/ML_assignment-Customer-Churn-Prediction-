{
 "cells": [
  {
   "cell_type": "markdown",
   "id": "104dbcf9",
   "metadata": {
    "papermill": {
     "duration": 0.011399,
     "end_time": "2024-04-19T16:59:34.428199",
     "exception": false,
     "start_time": "2024-04-19T16:59:34.416800",
     "status": "completed"
    },
    "tags": []
   },
   "source": [
    "# Importing some libraries"
   ]
  },
  {
   "cell_type": "code",
   "execution_count": 2,
   "id": "dd38bfcd",
   "metadata": {
    "execution": {
     "iopub.execute_input": "2024-04-19T16:59:34.451809Z",
     "iopub.status.busy": "2024-04-19T16:59:34.451285Z",
     "iopub.status.idle": "2024-04-19T16:59:37.352227Z",
     "shell.execute_reply": "2024-04-19T16:59:37.350736Z"
    },
    "papermill": {
     "duration": 2.916217,
     "end_time": "2024-04-19T16:59:37.355087",
     "exception": false,
     "start_time": "2024-04-19T16:59:34.438870",
     "status": "completed"
    },
    "tags": []
   },
   "outputs": [],
   "source": [
    "import pandas as pd\n",
    "import seaborn as sns\n",
    "import matplotlib.pyplot as plt\n",
    "import numpy as np\n",
    "from sklearn.metrics import confusion_matrix"
   ]
  },
  {
   "cell_type": "code",
   "execution_count": 4,
   "id": "6164f571",
   "metadata": {
    "execution": {
     "iopub.execute_input": "2024-04-19T16:59:37.382489Z",
     "iopub.status.busy": "2024-04-19T16:59:37.381916Z",
     "iopub.status.idle": "2024-04-19T16:59:37.463911Z",
     "shell.execute_reply": "2024-04-19T16:59:37.462639Z"
    },
    "papermill": {
     "duration": 0.100534,
     "end_time": "2024-04-19T16:59:37.466843",
     "exception": false,
     "start_time": "2024-04-19T16:59:37.366309",
     "status": "completed"
    },
    "tags": []
   },
   "outputs": [],
   "source": [
    "df = pd.read_csv('Churn_Modelling.csv')"
   ]
  },
  {
   "cell_type": "code",
   "execution_count": 5,
   "id": "98c348b8",
   "metadata": {
    "execution": {
     "iopub.execute_input": "2024-04-19T16:59:37.490842Z",
     "iopub.status.busy": "2024-04-19T16:59:37.490133Z",
     "iopub.status.idle": "2024-04-19T16:59:37.523723Z",
     "shell.execute_reply": "2024-04-19T16:59:37.522261Z"
    },
    "papermill": {
     "duration": 0.049107,
     "end_time": "2024-04-19T16:59:37.526855",
     "exception": false,
     "start_time": "2024-04-19T16:59:37.477748",
     "status": "completed"
    },
    "tags": []
   },
   "outputs": [
    {
     "data": {
      "text/html": [
       "<div>\n",
       "<style scoped>\n",
       "    .dataframe tbody tr th:only-of-type {\n",
       "        vertical-align: middle;\n",
       "    }\n",
       "\n",
       "    .dataframe tbody tr th {\n",
       "        vertical-align: top;\n",
       "    }\n",
       "\n",
       "    .dataframe thead th {\n",
       "        text-align: right;\n",
       "    }\n",
       "</style>\n",
       "<table border=\"1\" class=\"dataframe\">\n",
       "  <thead>\n",
       "    <tr style=\"text-align: right;\">\n",
       "      <th></th>\n",
       "      <th>RowNumber</th>\n",
       "      <th>CustomerId</th>\n",
       "      <th>Surname</th>\n",
       "      <th>CreditScore</th>\n",
       "      <th>Geography</th>\n",
       "      <th>Gender</th>\n",
       "      <th>Age</th>\n",
       "      <th>Tenure</th>\n",
       "      <th>Balance</th>\n",
       "      <th>NumOfProducts</th>\n",
       "      <th>HasCrCard</th>\n",
       "      <th>IsActiveMember</th>\n",
       "      <th>EstimatedSalary</th>\n",
       "      <th>Exited</th>\n",
       "    </tr>\n",
       "  </thead>\n",
       "  <tbody>\n",
       "    <tr>\n",
       "      <th>0</th>\n",
       "      <td>1</td>\n",
       "      <td>15634602</td>\n",
       "      <td>Hargrave</td>\n",
       "      <td>619</td>\n",
       "      <td>France</td>\n",
       "      <td>Female</td>\n",
       "      <td>42</td>\n",
       "      <td>2</td>\n",
       "      <td>0.00</td>\n",
       "      <td>1</td>\n",
       "      <td>1</td>\n",
       "      <td>1</td>\n",
       "      <td>101348.88</td>\n",
       "      <td>1</td>\n",
       "    </tr>\n",
       "    <tr>\n",
       "      <th>1</th>\n",
       "      <td>2</td>\n",
       "      <td>15647311</td>\n",
       "      <td>Hill</td>\n",
       "      <td>608</td>\n",
       "      <td>Spain</td>\n",
       "      <td>Female</td>\n",
       "      <td>41</td>\n",
       "      <td>1</td>\n",
       "      <td>83807.86</td>\n",
       "      <td>1</td>\n",
       "      <td>0</td>\n",
       "      <td>1</td>\n",
       "      <td>112542.58</td>\n",
       "      <td>0</td>\n",
       "    </tr>\n",
       "    <tr>\n",
       "      <th>2</th>\n",
       "      <td>3</td>\n",
       "      <td>15619304</td>\n",
       "      <td>Onio</td>\n",
       "      <td>502</td>\n",
       "      <td>France</td>\n",
       "      <td>Female</td>\n",
       "      <td>42</td>\n",
       "      <td>8</td>\n",
       "      <td>159660.80</td>\n",
       "      <td>3</td>\n",
       "      <td>1</td>\n",
       "      <td>0</td>\n",
       "      <td>113931.57</td>\n",
       "      <td>1</td>\n",
       "    </tr>\n",
       "    <tr>\n",
       "      <th>3</th>\n",
       "      <td>4</td>\n",
       "      <td>15701354</td>\n",
       "      <td>Boni</td>\n",
       "      <td>699</td>\n",
       "      <td>France</td>\n",
       "      <td>Female</td>\n",
       "      <td>39</td>\n",
       "      <td>1</td>\n",
       "      <td>0.00</td>\n",
       "      <td>2</td>\n",
       "      <td>0</td>\n",
       "      <td>0</td>\n",
       "      <td>93826.63</td>\n",
       "      <td>0</td>\n",
       "    </tr>\n",
       "    <tr>\n",
       "      <th>4</th>\n",
       "      <td>5</td>\n",
       "      <td>15737888</td>\n",
       "      <td>Mitchell</td>\n",
       "      <td>850</td>\n",
       "      <td>Spain</td>\n",
       "      <td>Female</td>\n",
       "      <td>43</td>\n",
       "      <td>2</td>\n",
       "      <td>125510.82</td>\n",
       "      <td>1</td>\n",
       "      <td>1</td>\n",
       "      <td>1</td>\n",
       "      <td>79084.10</td>\n",
       "      <td>0</td>\n",
       "    </tr>\n",
       "  </tbody>\n",
       "</table>\n",
       "</div>"
      ],
      "text/plain": [
       "   RowNumber  CustomerId   Surname  CreditScore Geography  Gender  Age  \\\n",
       "0          1    15634602  Hargrave          619    France  Female   42   \n",
       "1          2    15647311      Hill          608     Spain  Female   41   \n",
       "2          3    15619304      Onio          502    France  Female   42   \n",
       "3          4    15701354      Boni          699    France  Female   39   \n",
       "4          5    15737888  Mitchell          850     Spain  Female   43   \n",
       "\n",
       "   Tenure    Balance  NumOfProducts  HasCrCard  IsActiveMember  \\\n",
       "0       2       0.00              1          1               1   \n",
       "1       1   83807.86              1          0               1   \n",
       "2       8  159660.80              3          1               0   \n",
       "3       1       0.00              2          0               0   \n",
       "4       2  125510.82              1          1               1   \n",
       "\n",
       "   EstimatedSalary  Exited  \n",
       "0        101348.88       1  \n",
       "1        112542.58       0  \n",
       "2        113931.57       1  \n",
       "3         93826.63       0  \n",
       "4         79084.10       0  "
      ]
     },
     "execution_count": 5,
     "metadata": {},
     "output_type": "execute_result"
    }
   ],
   "source": [
    "df.head()"
   ]
  },
  {
   "cell_type": "markdown",
   "id": "b84b158c",
   "metadata": {
    "papermill": {
     "duration": 0.010908,
     "end_time": "2024-04-19T16:59:37.549415",
     "exception": false,
     "start_time": "2024-04-19T16:59:37.538507",
     "status": "completed"
    },
    "tags": []
   },
   "source": [
    "# Droping unneccessry columns"
   ]
  },
  {
   "cell_type": "code",
   "execution_count": 4,
   "id": "9eccb9a3",
   "metadata": {
    "execution": {
     "iopub.execute_input": "2024-04-19T16:59:37.574670Z",
     "iopub.status.busy": "2024-04-19T16:59:37.573878Z",
     "iopub.status.idle": "2024-04-19T16:59:37.586935Z",
     "shell.execute_reply": "2024-04-19T16:59:37.585999Z"
    },
    "papermill": {
     "duration": 0.028466,
     "end_time": "2024-04-19T16:59:37.589603",
     "exception": false,
     "start_time": "2024-04-19T16:59:37.561137",
     "status": "completed"
    },
    "tags": []
   },
   "outputs": [],
   "source": [
    "df.drop(columns=['RowNumber', 'CustomerId', 'Surname'],inplace=True)"
   ]
  },
  {
   "cell_type": "markdown",
   "id": "77af0cfa",
   "metadata": {
    "papermill": {
     "duration": 0.011138,
     "end_time": "2024-04-19T16:59:37.613433",
     "exception": false,
     "start_time": "2024-04-19T16:59:37.602295",
     "status": "completed"
    },
    "tags": []
   },
   "source": [
    "# Creating bins for Age columns"
   ]
  },
  {
   "cell_type": "code",
   "execution_count": 5,
   "id": "b85733be",
   "metadata": {
    "execution": {
     "iopub.execute_input": "2024-04-19T16:59:37.638095Z",
     "iopub.status.busy": "2024-04-19T16:59:37.637523Z",
     "iopub.status.idle": "2024-04-19T16:59:37.947686Z",
     "shell.execute_reply": "2024-04-19T16:59:37.946353Z"
    },
    "papermill": {
     "duration": 0.326472,
     "end_time": "2024-04-19T16:59:37.951157",
     "exception": false,
     "start_time": "2024-04-19T16:59:37.624685",
     "status": "completed"
    },
    "tags": []
   },
   "outputs": [],
   "source": [
    "from sklearn.preprocessing import KBinsDiscretizer\n",
    "bined=KBinsDiscretizer(encode='ordinal',strategy='uniform',dtype=None)"
   ]
  },
  {
   "cell_type": "code",
   "execution_count": 6,
   "id": "bd1f9134",
   "metadata": {
    "execution": {
     "iopub.execute_input": "2024-04-19T16:59:37.977158Z",
     "iopub.status.busy": "2024-04-19T16:59:37.975917Z",
     "iopub.status.idle": "2024-04-19T16:59:37.991315Z",
     "shell.execute_reply": "2024-04-19T16:59:37.990368Z"
    },
    "papermill": {
     "duration": 0.031104,
     "end_time": "2024-04-19T16:59:37.994012",
     "exception": false,
     "start_time": "2024-04-19T16:59:37.962908",
     "status": "completed"
    },
    "tags": []
   },
   "outputs": [],
   "source": [
    "df['age_bin']=bined.fit_transform(df[['Age']])"
   ]
  },
  {
   "cell_type": "code",
   "execution_count": 7,
   "id": "d9a9abd4",
   "metadata": {
    "execution": {
     "iopub.execute_input": "2024-04-19T16:59:38.020247Z",
     "iopub.status.busy": "2024-04-19T16:59:38.019443Z",
     "iopub.status.idle": "2024-04-19T16:59:38.342903Z",
     "shell.execute_reply": "2024-04-19T16:59:38.341468Z"
    },
    "papermill": {
     "duration": 0.339785,
     "end_time": "2024-04-19T16:59:38.346220",
     "exception": false,
     "start_time": "2024-04-19T16:59:38.006435",
     "status": "completed"
    },
    "tags": []
   },
   "outputs": [
    {
     "data": {
      "text/plain": [
       "<Axes: >"
      ]
     },
     "execution_count": 7,
     "metadata": {},
     "output_type": "execute_result"
    },
    {
     "data": {
      "image/png": "[encoded data removed]",
      "text/plain": [
       "<Figure size 640x480 with 1 Axes>"
      ]
     },
     "metadata": {},
     "output_type": "display_data"
    }
   ],
   "source": [
    "df['age_bin'].plot(kind='box')"
   ]
  },
  {
   "cell_type": "code",
   "execution_count": 8,
   "id": "a88f0551",
   "metadata": {
    "execution": {
     "iopub.execute_input": "2024-04-19T16:59:38.390492Z",
     "iopub.status.busy": "2024-04-19T16:59:38.389776Z",
     "iopub.status.idle": "2024-04-19T16:59:38.416099Z",
     "shell.execute_reply": "2024-04-19T16:59:38.414552Z"
    },
    "papermill": {
     "duration": 0.055194,
     "end_time": "2024-04-19T16:59:38.419121",
     "exception": false,
     "start_time": "2024-04-19T16:59:38.363927",
     "status": "completed"
    },
    "tags": []
   },
   "outputs": [
    {
     "data": {
      "text/plain": [
       "CreditScore         460\n",
       "Geography             3\n",
       "Gender                2\n",
       "Age                  70\n",
       "Tenure               11\n",
       "Balance            6382\n",
       "NumOfProducts         4\n",
       "HasCrCard             2\n",
       "IsActiveMember        2\n",
       "EstimatedSalary    9999\n",
       "Exited                2\n",
       "age_bin               5\n",
       "dtype: int64"
      ]
     },
     "execution_count": 8,
     "metadata": {},
     "output_type": "execute_result"
    }
   ],
   "source": [
    "df.nunique()"
   ]
  },
  {
   "cell_type": "code",
   "execution_count": 9,
   "id": "058b4bc4",
   "metadata": {
    "execution": {
     "iopub.execute_input": "2024-04-19T16:59:38.447386Z",
     "iopub.status.busy": "2024-04-19T16:59:38.446756Z",
     "iopub.status.idle": "2024-04-19T16:59:38.464186Z",
     "shell.execute_reply": "2024-04-19T16:59:38.463156Z"
    },
    "papermill": {
     "duration": 0.034864,
     "end_time": "2024-04-19T16:59:38.467026",
     "exception": false,
     "start_time": "2024-04-19T16:59:38.432162",
     "status": "completed"
    },
    "tags": []
   },
   "outputs": [
    {
     "data": {
      "text/plain": [
       "age_bin\n",
       "1.0    5500\n",
       "0.0    2790\n",
       "2.0    1351\n",
       "3.0     335\n",
       "4.0      24\n",
       "Name: count, dtype: int64"
      ]
     },
     "execution_count": 9,
     "metadata": {},
     "output_type": "execute_result"
    }
   ],
   "source": [
    "df['age_bin'].value_counts()"
   ]
  },
  {
   "cell_type": "code",
   "execution_count": 10,
   "id": "280ef394",
   "metadata": {
    "execution": {
     "iopub.execute_input": "2024-04-19T16:59:38.501203Z",
     "iopub.status.busy": "2024-04-19T16:59:38.500049Z",
     "iopub.status.idle": "2024-04-19T16:59:38.509259Z",
     "shell.execute_reply": "2024-04-19T16:59:38.508065Z"
    },
    "papermill": {
     "duration": 0.028261,
     "end_time": "2024-04-19T16:59:38.511738",
     "exception": false,
     "start_time": "2024-04-19T16:59:38.483477",
     "status": "completed"
    },
    "tags": []
   },
   "outputs": [
    {
     "data": {
      "text/plain": [
       "Index(['CreditScore', 'Geography', 'Gender', 'Age', 'Tenure', 'Balance',\n",
       "       'NumOfProducts', 'HasCrCard', 'IsActiveMember', 'EstimatedSalary',\n",
       "       'Exited', 'age_bin'],\n",
       "      dtype='object')"
      ]
     },
     "execution_count": 10,
     "metadata": {},
     "output_type": "execute_result"
    }
   ],
   "source": [
    "df.columns"
   ]
  },
  {
   "cell_type": "code",
   "execution_count": 11,
   "id": "ae190e2e",
   "metadata": {
    "execution": {
     "iopub.execute_input": "2024-04-19T16:59:38.542592Z",
     "iopub.status.busy": "2024-04-19T16:59:38.541457Z",
     "iopub.status.idle": "2024-04-19T16:59:38.550488Z",
     "shell.execute_reply": "2024-04-19T16:59:38.548820Z"
    },
    "papermill": {
     "duration": 0.028395,
     "end_time": "2024-04-19T16:59:38.553756",
     "exception": false,
     "start_time": "2024-04-19T16:59:38.525361",
     "status": "completed"
    },
    "tags": []
   },
   "outputs": [],
   "source": [
    "df.drop(columns=['Age'],inplace=True)"
   ]
  },
  {
   "cell_type": "code",
   "execution_count": 12,
   "id": "7ba6d007",
   "metadata": {
    "execution": {
     "iopub.execute_input": "2024-04-19T16:59:38.589840Z",
     "iopub.status.busy": "2024-04-19T16:59:38.588921Z",
     "iopub.status.idle": "2024-04-19T16:59:38.605738Z",
     "shell.execute_reply": "2024-04-19T16:59:38.604373Z"
    },
    "papermill": {
     "duration": 0.040283,
     "end_time": "2024-04-19T16:59:38.609035",
     "exception": false,
     "start_time": "2024-04-19T16:59:38.568752",
     "status": "completed"
    },
    "tags": []
   },
   "outputs": [],
   "source": [
    "X = df.drop(columns=['Exited']).values\n",
    "y = df['Exited'].values"
   ]
  },
  {
   "cell_type": "code",
   "execution_count": 13,
   "id": "776c0e7d",
   "metadata": {
    "execution": {
     "iopub.execute_input": "2024-04-19T16:59:38.641522Z",
     "iopub.status.busy": "2024-04-19T16:59:38.641025Z",
     "iopub.status.idle": "2024-04-19T16:59:38.648883Z",
     "shell.execute_reply": "2024-04-19T16:59:38.647679Z"
    },
    "papermill": {
     "duration": 0.025209,
     "end_time": "2024-04-19T16:59:38.651352",
     "exception": false,
     "start_time": "2024-04-19T16:59:38.626143",
     "status": "completed"
    },
    "tags": []
   },
   "outputs": [
    {
     "data": {
      "text/plain": [
       "array([[619, 'France', 'Female', ..., 1, 101348.88, 1.0],\n",
       "       [608, 'Spain', 'Female', ..., 1, 112542.58, 1.0],\n",
       "       [502, 'France', 'Female', ..., 0, 113931.57, 1.0],\n",
       "       ...,\n",
       "       [709, 'France', 'Female', ..., 1, 42085.58, 1.0],\n",
       "       [772, 'Germany', 'Male', ..., 0, 92888.52, 1.0],\n",
       "       [792, 'France', 'Female', ..., 0, 38190.78, 0.0]], dtype=object)"
      ]
     },
     "execution_count": 13,
     "metadata": {},
     "output_type": "execute_result"
    }
   ],
   "source": [
    "X"
   ]
  },
  {
   "cell_type": "markdown",
   "id": "ed9378bd",
   "metadata": {
    "papermill": {
     "duration": 0.013436,
     "end_time": "2024-04-19T16:59:38.678120",
     "exception": false,
     "start_time": "2024-04-19T16:59:38.664684",
     "status": "completed"
    },
    "tags": []
   },
   "source": [
    "# One hot encoding"
   ]
  },
  {
   "cell_type": "code",
   "execution_count": 14,
   "id": "b9fe00a9",
   "metadata": {
    "execution": {
     "iopub.execute_input": "2024-04-19T16:59:38.713876Z",
     "iopub.status.busy": "2024-04-19T16:59:38.712637Z",
     "iopub.status.idle": "2024-04-19T16:59:38.733651Z",
     "shell.execute_reply": "2024-04-19T16:59:38.732256Z"
    },
    "papermill": {
     "duration": 0.044815,
     "end_time": "2024-04-19T16:59:38.737226",
     "exception": false,
     "start_time": "2024-04-19T16:59:38.692411",
     "status": "completed"
    },
    "tags": []
   },
   "outputs": [],
   "source": [
    "from sklearn.compose import ColumnTransformer\n",
    "from sklearn.preprocessing import OneHotEncoder\n",
    "\n",
    "ct = ColumnTransformer(transformers=[('onehot',OneHotEncoder(),[1])],remainder='passthrough')"
   ]
  },
  {
   "cell_type": "code",
   "execution_count": 15,
   "id": "3bee8767",
   "metadata": {
    "execution": {
     "iopub.execute_input": "2024-04-19T16:59:38.768818Z",
     "iopub.status.busy": "2024-04-19T16:59:38.767826Z",
     "iopub.status.idle": "2024-04-19T16:59:38.789205Z",
     "shell.execute_reply": "2024-04-19T16:59:38.788053Z"
    },
    "papermill": {
     "duration": 0.039924,
     "end_time": "2024-04-19T16:59:38.792278",
     "exception": false,
     "start_time": "2024-04-19T16:59:38.752354",
     "status": "completed"
    },
    "tags": []
   },
   "outputs": [],
   "source": [
    "X = ct.fit_transform(X)\n"
   ]
  },
  {
   "cell_type": "code",
   "execution_count": 16,
   "id": "91df25f5",
   "metadata": {
    "execution": {
     "iopub.execute_input": "2024-04-19T16:59:38.822250Z",
     "iopub.status.busy": "2024-04-19T16:59:38.821312Z",
     "iopub.status.idle": "2024-04-19T16:59:38.841878Z",
     "shell.execute_reply": "2024-04-19T16:59:38.840281Z"
    },
    "papermill": {
     "duration": 0.039126,
     "end_time": "2024-04-19T16:59:38.845063",
     "exception": false,
     "start_time": "2024-04-19T16:59:38.805937",
     "status": "completed"
    },
    "tags": []
   },
   "outputs": [],
   "source": [
    "ct = ColumnTransformer(transformers=[('onehot',OneHotEncoder(),[4])],remainder='passthrough')\n",
    "X = ct.fit_transform(X)\n"
   ]
  },
  {
   "cell_type": "code",
   "execution_count": 17,
   "id": "d1258299",
   "metadata": {
    "execution": {
     "iopub.execute_input": "2024-04-19T16:59:38.876030Z",
     "iopub.status.busy": "2024-04-19T16:59:38.875093Z",
     "iopub.status.idle": "2024-04-19T16:59:38.883243Z",
     "shell.execute_reply": "2024-04-19T16:59:38.882028Z"
    },
    "papermill": {
     "duration": 0.026234,
     "end_time": "2024-04-19T16:59:38.885707",
     "exception": false,
     "start_time": "2024-04-19T16:59:38.859473",
     "status": "completed"
    },
    "tags": []
   },
   "outputs": [
    {
     "data": {
      "text/plain": [
       "array([1.0, 0.0, 0.0, 0.0, 1.0, 850, 2, 125510.82, 1, 1, 1, 79084.1, 1.0],\n",
       "      dtype=object)"
      ]
     },
     "execution_count": 17,
     "metadata": {},
     "output_type": "execute_result"
    }
   ],
   "source": [
    "X[4]"
   ]
  },
  {
   "cell_type": "code",
   "execution_count": 18,
   "id": "825e0e88",
   "metadata": {
    "execution": {
     "iopub.execute_input": "2024-04-19T16:59:38.918046Z",
     "iopub.status.busy": "2024-04-19T16:59:38.917113Z",
     "iopub.status.idle": "2024-04-19T16:59:38.947275Z",
     "shell.execute_reply": "2024-04-19T16:59:38.946128Z"
    },
    "papermill": {
     "duration": 0.050832,
     "end_time": "2024-04-19T16:59:38.950296",
     "exception": false,
     "start_time": "2024-04-19T16:59:38.899464",
     "status": "completed"
    },
    "tags": []
   },
   "outputs": [],
   "source": [
    "from sklearn.preprocessing import StandardScaler\n",
    "sta=StandardScaler()\n",
    "X = sta.fit_transform(X)"
   ]
  },
  {
   "cell_type": "code",
   "execution_count": 19,
   "id": "1664918b",
   "metadata": {
    "execution": {
     "iopub.execute_input": "2024-04-19T16:59:38.982142Z",
     "iopub.status.busy": "2024-04-19T16:59:38.981183Z",
     "iopub.status.idle": "2024-04-19T16:59:38.990174Z",
     "shell.execute_reply": "2024-04-19T16:59:38.988945Z"
    },
    "papermill": {
     "duration": 0.028252,
     "end_time": "2024-04-19T16:59:38.992701",
     "exception": false,
     "start_time": "2024-04-19T16:59:38.964449",
     "status": "completed"
    },
    "tags": []
   },
   "outputs": [
    {
     "data": {
      "text/plain": [
       "array([[ 1.09598752, -1.09598752,  0.99720391, ...,  0.97024255,\n",
       "         0.02188649,  0.09274048],\n",
       "       [ 1.09598752, -1.09598752, -1.00280393, ...,  0.97024255,\n",
       "         0.21653375,  0.09274048],\n",
       "       [ 1.09598752, -1.09598752,  0.99720391, ..., -1.03067011,\n",
       "         0.2406869 ,  0.09274048],\n",
       "       ...,\n",
       "       [ 1.09598752, -1.09598752,  0.99720391, ...,  0.97024255,\n",
       "        -1.00864308,  0.09274048],\n",
       "       [-0.91241915,  0.91241915, -1.00280393, ..., -1.03067011,\n",
       "        -0.12523071,  0.09274048],\n",
       "       [ 1.09598752, -1.09598752,  0.99720391, ..., -1.03067011,\n",
       "        -1.07636976, -1.2378259 ]])"
      ]
     },
     "execution_count": 19,
     "metadata": {},
     "output_type": "execute_result"
    }
   ],
   "source": [
    "X"
   ]
  },
  {
   "cell_type": "markdown",
   "id": "f390c84c",
   "metadata": {
    "papermill": {
     "duration": 0.013978,
     "end_time": "2024-04-19T16:59:39.022154",
     "exception": false,
     "start_time": "2024-04-19T16:59:39.008176",
     "status": "completed"
    },
    "tags": []
   },
   "source": [
    "# Train Test Split"
   ]
  },
  {
   "cell_type": "code",
   "execution_count": 20,
   "id": "226a612d",
   "metadata": {
    "execution": {
     "iopub.execute_input": "2024-04-19T16:59:39.054387Z",
     "iopub.status.busy": "2024-04-19T16:59:39.053487Z",
     "iopub.status.idle": "2024-04-19T16:59:39.196631Z",
     "shell.execute_reply": "2024-04-19T16:59:39.195311Z"
    },
    "papermill": {
     "duration": 0.163067,
     "end_time": "2024-04-19T16:59:39.199573",
     "exception": false,
     "start_time": "2024-04-19T16:59:39.036506",
     "status": "completed"
    },
    "tags": []
   },
   "outputs": [],
   "source": [
    "from sklearn.model_selection import train_test_split\n",
    "X_train, X_test, y_train, y_test = train_test_split(X, y, test_size=0.2, random_state=0)"
   ]
  },
  {
   "cell_type": "code",
   "execution_count": 21,
   "id": "3b6d8f7d",
   "metadata": {
    "execution": {
     "iopub.execute_input": "2024-04-19T16:59:39.230313Z",
     "iopub.status.busy": "2024-04-19T16:59:39.229514Z",
     "iopub.status.idle": "2024-04-19T16:59:39.234366Z",
     "shell.execute_reply": "2024-04-19T16:59:39.233409Z"
    },
    "papermill": {
     "duration": 0.022748,
     "end_time": "2024-04-19T16:59:39.236890",
     "exception": false,
     "start_time": "2024-04-19T16:59:39.214142",
     "status": "completed"
    },
    "tags": []
   },
   "outputs": [],
   "source": [
    "# logistic regression\n",
    "# polynomial regression\n"
   ]
  },
  {
   "cell_type": "markdown",
   "id": "5bddca1c",
   "metadata": {
    "papermill": {
     "duration": 0.013543,
     "end_time": "2024-04-19T16:59:39.265235",
     "exception": false,
     "start_time": "2024-04-19T16:59:39.251692",
     "status": "completed"
    },
    "tags": []
   },
   "source": [
    "# Importing the models"
   ]
  },
  {
   "cell_type": "code",
   "execution_count": 22,
   "id": "0cd3f96d",
   "metadata": {
    "execution": {
     "iopub.execute_input": "2024-04-19T16:59:39.295998Z",
     "iopub.status.busy": "2024-04-19T16:59:39.295164Z",
     "iopub.status.idle": "2024-04-19T16:59:39.609422Z",
     "shell.execute_reply": "2024-04-19T16:59:39.607555Z"
    },
    "papermill": {
     "duration": 0.333139,
     "end_time": "2024-04-19T16:59:39.612478",
     "exception": false,
     "start_time": "2024-04-19T16:59:39.279339",
     "status": "completed"
    },
    "tags": []
   },
   "outputs": [],
   "source": [
    "from sklearn.linear_model import SGDClassifier\n",
    "from sklearn.linear_model import LogisticRegression\n",
    "from sklearn.neighbors import KNeighborsClassifier\n",
    "from sklearn.svm import SVC\n",
    "from sklearn.tree import DecisionTreeClassifier\n",
    "from sklearn.ensemble import RandomForestClassifier\n",
    "from sklearn.model_selection import GridSearchCV\n",
    "from sklearn.metrics import classification_report\n"
   ]
  },
  {
   "cell_type": "code",
   "execution_count": 23,
   "id": "e0a4fc1a",
   "metadata": {
    "execution": {
     "iopub.execute_input": "2024-04-19T16:59:39.644064Z",
     "iopub.status.busy": "2024-04-19T16:59:39.643414Z",
     "iopub.status.idle": "2024-04-19T16:59:39.649840Z",
     "shell.execute_reply": "2024-04-19T16:59:39.649049Z"
    },
    "papermill": {
     "duration": 0.025636,
     "end_time": "2024-04-19T16:59:39.652252",
     "exception": false,
     "start_time": "2024-04-19T16:59:39.626616",
     "status": "completed"
    },
    "tags": []
   },
   "outputs": [],
   "source": [
    "classifiers = {}\n",
    "\n",
    "\n",
    "classifiers['SGDClassifier'] = SGDClassifier()\n",
    "classifiers['Logistic Regression'] = LogisticRegression()\n",
    "classifiers['K-Nearest Neighbors'] = KNeighborsClassifier()\n",
    "classifiers['Support Vector Machine'] = SVC()\n",
    "classifiers['Decision Tree'] = DecisionTreeClassifier()\n",
    "classifiers['Random Forest'] = RandomForestClassifier()\n"
   ]
  },
  {
   "cell_type": "markdown",
   "id": "32e89e88",
   "metadata": {
    "papermill": {
     "duration": 0.014069,
     "end_time": "2024-04-19T16:59:39.680205",
     "exception": false,
     "start_time": "2024-04-19T16:59:39.666136",
     "status": "completed"
    },
    "tags": []
   },
   "source": [
    "# Training the models"
   ]
  },
  {
   "cell_type": "code",
   "execution_count": 24,
   "id": "f2115d4d",
   "metadata": {
    "execution": {
     "iopub.execute_input": "2024-04-19T16:59:39.711661Z",
     "iopub.status.busy": "2024-04-19T16:59:39.711006Z",
     "iopub.status.idle": "2024-04-19T16:59:43.873346Z",
     "shell.execute_reply": "2024-04-19T16:59:43.872091Z"
    },
    "papermill": {
     "duration": 4.180945,
     "end_time": "2024-04-19T16:59:43.876007",
     "exception": false,
     "start_time": "2024-04-19T16:59:39.695062",
     "status": "completed"
    },
    "tags": []
   },
   "outputs": [
    {
     "name": "stdout",
     "output_type": "stream",
     "text": [
      "Training SGDClassifier...\n",
      "Evaluating SGDClassifier...\n",
      "Classification Report for SGDClassifier:\n",
      "              precision    recall  f1-score   support\n",
      "\n",
      "           0       0.80      1.00      0.89      1595\n",
      "           1       0.00      0.00      0.00       405\n",
      "\n",
      "    accuracy                           0.80      2000\n",
      "   macro avg       0.40      0.50      0.44      2000\n",
      "weighted avg       0.64      0.80      0.71      2000\n",
      "\n",
      "==================================================\n",
      "Training Logistic Regression...\n",
      "Evaluating Logistic Regression...\n",
      "Classification Report for Logistic Regression:\n",
      "              precision    recall  f1-score   support\n",
      "\n",
      "           0       0.83      0.96      0.89      1595\n",
      "           1       0.57      0.21      0.31       405\n",
      "\n",
      "    accuracy                           0.81      2000\n",
      "   macro avg       0.70      0.59      0.60      2000\n",
      "weighted avg       0.78      0.81      0.77      2000\n",
      "\n",
      "==================================================\n",
      "Training K-Nearest Neighbors...\n",
      "Evaluating K-Nearest Neighbors...\n"
     ]
    },
    {
     "name": "stderr",
     "output_type": "stream",
     "text": [
      "c:\\Users\\User\\anaconda3\\Lib\\site-packages\\sklearn\\metrics\\_classification.py:1344: UndefinedMetricWarning: Precision and F-score are ill-defined and being set to 0.0 in labels with no predicted samples. Use `zero_division` parameter to control this behavior.\n",
      "  _warn_prf(average, modifier, msg_start, len(result))\n",
      "c:\\Users\\User\\anaconda3\\Lib\\site-packages\\sklearn\\metrics\\_classification.py:1344: UndefinedMetricWarning: Precision and F-score are ill-defined and being set to 0.0 in labels with no predicted samples. Use `zero_division` parameter to control this behavior.\n",
      "  _warn_prf(average, modifier, msg_start, len(result))\n",
      "c:\\Users\\User\\anaconda3\\Lib\\site-packages\\sklearn\\metrics\\_classification.py:1344: UndefinedMetricWarning: Precision and F-score are ill-defined and being set to 0.0 in labels with no predicted samples. Use `zero_division` parameter to control this behavior.\n",
      "  _warn_prf(average, modifier, msg_start, len(result))\n"
     ]
    },
    {
     "name": "stdout",
     "output_type": "stream",
     "text": [
      "Classification Report for K-Nearest Neighbors:\n",
      "              precision    recall  f1-score   support\n",
      "\n",
      "           0       0.86      0.93      0.89      1595\n",
      "           1       0.57      0.38      0.46       405\n",
      "\n",
      "    accuracy                           0.82      2000\n",
      "   macro avg       0.71      0.65      0.67      2000\n",
      "weighted avg       0.80      0.82      0.80      2000\n",
      "\n",
      "==================================================\n",
      "Training Support Vector Machine...\n",
      "Evaluating Support Vector Machine...\n",
      "Classification Report for Support Vector Machine:\n",
      "              precision    recall  f1-score   support\n",
      "\n",
      "           0       0.86      0.98      0.91      1595\n",
      "           1       0.81      0.37      0.50       405\n",
      "\n",
      "    accuracy                           0.85      2000\n",
      "   macro avg       0.84      0.67      0.71      2000\n",
      "weighted avg       0.85      0.85      0.83      2000\n",
      "\n",
      "==================================================\n",
      "Training Decision Tree...\n",
      "Evaluating Decision Tree...\n",
      "Classification Report for Decision Tree:\n",
      "              precision    recall  f1-score   support\n",
      "\n",
      "           0       0.87      0.85      0.86      1595\n",
      "           1       0.45      0.50      0.47       405\n",
      "\n",
      "    accuracy                           0.78      2000\n",
      "   macro avg       0.66      0.67      0.67      2000\n",
      "weighted avg       0.78      0.78      0.78      2000\n",
      "\n",
      "==================================================\n",
      "Training Random Forest...\n",
      "Evaluating Random Forest...\n",
      "Classification Report for Random Forest:\n",
      "              precision    recall  f1-score   support\n",
      "\n",
      "           0       0.88      0.95      0.91      1595\n",
      "           1       0.70      0.48      0.57       405\n",
      "\n",
      "    accuracy                           0.85      2000\n",
      "   macro avg       0.79      0.71      0.74      2000\n",
      "weighted avg       0.84      0.85      0.84      2000\n",
      "\n",
      "==================================================\n"
     ]
    }
   ],
   "source": [
    "for name, model in classifiers.items():\n",
    "    print(f\"Training {name}...\")\n",
    "    model.fit(X_train, y_train)\n",
    "    print(f\"Evaluating {name}...\")\n",
    "    y_pred = model.predict(X_test)\n",
    "    print(f\"Classification Report for {name}:\")\n",
    "    print(classification_report(y_test, y_pred))\n",
    "    print(\"=\"*50)\n",
    "\n",
    "\n",
    "# for name, model in classifiers.items():\n",
    "#     print(f\"Training {'Logistic Regression'}...\")\n",
    "#     model.fit(X_train, y_train)\n",
    "#     print(f\"Evaluating {'K-Nearest Neighbors'}...\")\n",
    "#     y_pred = model.predict(X_test)\n",
    "#     print(f\"Classification Report for {'Decision Tree'}:\")\n",
    "#     print(classification_report(y_test, y_pred))\n",
    "#     print(\"=\"*50)\n",
    "\n"
   ]
  },
  {
   "cell_type": "code",
   "execution_count": 25,
   "id": "a7c8f4ae",
   "metadata": {
    "execution": {
     "iopub.execute_input": "2024-04-19T16:59:43.908930Z",
     "iopub.status.busy": "2024-04-19T16:59:43.907995Z",
     "iopub.status.idle": "2024-04-19T16:59:44.814396Z",
     "shell.execute_reply": "2024-04-19T16:59:44.812797Z"
    },
    "papermill": {
     "duration": 0.926865,
     "end_time": "2024-04-19T16:59:44.818118",
     "exception": false,
     "start_time": "2024-04-19T16:59:43.891253",
     "status": "completed"
    },
    "tags": []
   },
   "outputs": [
    {
     "name": "stdout",
     "output_type": "stream",
     "text": [
      "Evaluating SGDClassifier...\n",
      "Evaluation Metrics for SGDClassifier:\n",
      "Accuracy: 0.7975\n",
      "Precision: 0.0\n",
      "Recall: 0.0\n",
      "F1-Score: 0.0\n",
      "ROC AUC: 0.5\n",
      "Confusion Matrix for SGDClassifier:\n",
      "[[1595    0]\n",
      " [ 405    0]]\n",
      "==================================================\n",
      "<function confusion_matrix at 0x000002AA156FEC00>\n",
      "Evaluating Logistic Regression...\n",
      "Evaluation Metrics for Logistic Regression:\n",
      "Accuracy: 0.8085\n",
      "Precision: 0.5733333333333334\n",
      "Recall: 0.2123456790123457\n",
      "F1-Score: 0.3099099099099099\n",
      "ROC AUC: 0.586110143581408\n",
      "Confusion Matrix for Logistic Regression:\n",
      "[[1531   64]\n",
      " [ 319   86]]\n",
      "==================================================\n",
      "<function confusion_matrix at 0x000002AA156FEC00>\n",
      "Evaluating K-Nearest Neighbors...\n"
     ]
    },
    {
     "name": "stderr",
     "output_type": "stream",
     "text": [
      "c:\\Users\\User\\anaconda3\\Lib\\site-packages\\sklearn\\metrics\\_classification.py:1344: UndefinedMetricWarning: Precision is ill-defined and being set to 0.0 due to no predicted samples. Use `zero_division` parameter to control this behavior.\n",
      "  _warn_prf(average, modifier, msg_start, len(result))\n"
     ]
    },
    {
     "name": "stdout",
     "output_type": "stream",
     "text": [
      "Evaluation Metrics for K-Nearest Neighbors:\n",
      "Accuracy: 0.817\n",
      "Precision: 0.5719557195571956\n",
      "Recall: 0.38271604938271603\n",
      "F1-Score: 0.45857988165680474\n",
      "ROC AUC: 0.6549943883277216\n",
      "Confusion Matrix for K-Nearest Neighbors:\n",
      "[[1479  116]\n",
      " [ 250  155]]\n",
      "==================================================\n",
      "<function confusion_matrix at 0x000002AA156FEC00>\n",
      "Evaluating Support Vector Machine...\n",
      "Evaluation Metrics for Support Vector Machine:\n",
      "Accuracy: 0.8545\n",
      "Precision: 0.8131868131868132\n",
      "Recall: 0.3654320987654321\n",
      "F1-Score: 0.504258943781942\n",
      "ROC AUC: 0.6720577421726847\n",
      "Confusion Matrix for Support Vector Machine:\n",
      "[[1561   34]\n",
      " [ 257  148]]\n",
      "==================================================\n",
      "<function confusion_matrix at 0x000002AA156FEC00>\n",
      "Evaluating Decision Tree...\n",
      "Evaluation Metrics for Decision Tree:\n",
      "Accuracy: 0.7765\n",
      "Precision: 0.4527027027027027\n",
      "Recall: 0.4962962962962963\n",
      "F1-Score: 0.4734982332155477\n",
      "ROC AUC: 0.6719725995588064\n",
      "Confusion Matrix for Decision Tree:\n",
      "[[1352  243]\n",
      " [ 204  201]]\n",
      "==================================================\n",
      "<function confusion_matrix at 0x000002AA156FEC00>\n",
      "Evaluating Random Forest...\n",
      "Evaluation Metrics for Random Forest:\n",
      "Accuracy: 0.8535\n",
      "Precision: 0.7043795620437956\n",
      "Recall: 0.4765432098765432\n",
      "F1-Score: 0.5684830633284241\n",
      "ROC AUC: 0.712879755408491\n",
      "Confusion Matrix for Random Forest:\n",
      "[[1514   81]\n",
      " [ 212  193]]\n",
      "==================================================\n",
      "<function confusion_matrix at 0x000002AA156FEC00>\n"
     ]
    }
   ],
   "source": [
    "from sklearn.metrics import accuracy_score, precision_score, recall_score, f1_score, roc_auc_score, confusion_matrix\n",
    "\n",
    "metrics = ['Accuracy', 'Precision', 'Recall', 'F1-Score', 'ROC AUC']\n",
    "\n",
    "for name, model in classifiers.items():\n",
    "    print(f\"Evaluating {name}...\")\n",
    "    y_pred = model.predict(X_test)\n",
    "\n",
    "    # Calculate evaluation metrics\n",
    "    scores = {\n",
    "        'Accuracy': accuracy_score(y_test, y_pred),\n",
    "        'Precision': precision_score(y_test, y_pred),\n",
    "        'Recall': recall_score(y_test, y_pred),\n",
    "        'F1-Score': f1_score(y_test, y_pred),\n",
    "        'ROC AUC': roc_auc_score(y_test, y_pred)\n",
    "    }\n",
    "    \n",
    "    # Print evaluation metrics\n",
    "    print(f\"Evaluation Metrics for {name}:\")\n",
    "    for metric in metrics:\n",
    "        print(f\"{metric}: {scores[metric]}\")\n",
    "    \n",
    "    # Confusion Matrix\n",
    "    print(f\"Confusion Matrix for {name}:\")\n",
    "    print(confusion_matrix(y_test, y_pred))\n",
    "    \n",
    "    print(\"=\"*50)\n",
    "    print(confusion_matrix)\n"
   ]
  },
  {
   "cell_type": "code",
   "execution_count": 26,
   "id": "1e075d32",
   "metadata": {},
   "outputs": [],
   "source": [
    "conf_matrices = {}\n"
   ]
  },
  {
   "cell_type": "code",
   "execution_count": 27,
   "id": "e82beb43",
   "metadata": {},
   "outputs": [
    {
     "name": "stdout",
     "output_type": "stream",
     "text": [
      "Evaluation Metrics for <class 'sklearn.linear_model._logistic.LogisticRegression'>:\n",
      "0.8535\n",
      "0.7043795620437956\n",
      "0.4765432098765432\n",
      "0.5684830633284241\n",
      "0.712879755408491\n"
     ]
    }
   ],
   "source": [
    "# Store confusion matrix\n",
    "conf_matrices[name] = confusion_matrix(y_test, y_pred)\n",
    "    # Print evaluation metrics\n",
    "print(f\"Evaluation Metrics for {LogisticRegression}:\")\n",
    "all_metrics={}\n",
    "for metric in metrics:\n",
    "    \n",
    "    score = scores[metric]\n",
    "    print(score)\n",
    "    # all_metrics[metric].append(score)\n",
    "#     print(f\"{metric}: {score}\")\n",
    "\n",
    "# print(f\"Confusion Matrix for {name}:\")\n",
    "# print(conf_matrices[name])\n",
    "# print(\"=\"*50)"
   ]
  },
  {
   "cell_type": "code",
   "execution_count": 28,
   "id": "d93142b3",
   "metadata": {},
   "outputs": [
    {
     "name": "stdout",
     "output_type": "stream",
     "text": [
      "Evaluation Metrics for Random Forest:\n"
     ]
    },
    {
     "ename": "KeyError",
     "evalue": "'Accuracy'",
     "output_type": "error",
     "traceback": [
      "\u001b[1;31m---------------------------------------------------------------------------\u001b[0m",
      "\u001b[1;31mKeyError\u001b[0m                                  Traceback (most recent call last)",
      "Cell \u001b[1;32mIn[28], line 7\u001b[0m\n\u001b[0;32m      5\u001b[0m \u001b[38;5;28;01mfor\u001b[39;00m metric \u001b[38;5;129;01min\u001b[39;00m metrics:\n\u001b[0;32m      6\u001b[0m     score \u001b[38;5;241m=\u001b[39m scores[metric]\n\u001b[1;32m----> 7\u001b[0m     all_metrics[metric]\u001b[38;5;241m.\u001b[39mappend(score)\n\u001b[0;32m      8\u001b[0m     \u001b[38;5;28mprint\u001b[39m(\u001b[38;5;124mf\u001b[39m\u001b[38;5;124m\"\u001b[39m\u001b[38;5;132;01m{\u001b[39;00mmetric\u001b[38;5;132;01m}\u001b[39;00m\u001b[38;5;124m: \u001b[39m\u001b[38;5;132;01m{\u001b[39;00mscore\u001b[38;5;132;01m}\u001b[39;00m\u001b[38;5;124m\"\u001b[39m)\n\u001b[0;32m     10\u001b[0m \u001b[38;5;28mprint\u001b[39m(\u001b[38;5;124mf\u001b[39m\u001b[38;5;124m\"\u001b[39m\u001b[38;5;124mConfusion Matrix for \u001b[39m\u001b[38;5;132;01m{\u001b[39;00mname\u001b[38;5;132;01m}\u001b[39;00m\u001b[38;5;124m:\u001b[39m\u001b[38;5;124m\"\u001b[39m)\n",
      "\u001b[1;31mKeyError\u001b[0m: 'Accuracy'"
     ]
    }
   ],
   "source": [
    "# Store confusion matrix\n",
    "conf_matrices[name] = confusion_matrix(y_test, y_pred)\n",
    "    # Print evaluation metrics\n",
    "print(f\"Evaluation Metrics for {name}:\")\n",
    "for metric in metrics:\n",
    "    score = scores[metric]\n",
    "    all_metrics[metric].append(score)\n",
    "    print(f\"{metric}: {score}\")\n",
    "\n",
    "print(f\"Confusion Matrix for {name}:\")\n",
    "print(conf_matrices[name])\n",
    "print(\"=\"*50)"
   ]
  },
  {
   "cell_type": "code",
   "execution_count": null,
   "id": "38c28f96",
   "metadata": {},
   "outputs": [
    {
     "ename": "NameError",
     "evalue": "name 'conf_matrices' is not defined",
     "output_type": "error",
     "traceback": [
      "\u001b[1;31m---------------------------------------------------------------------------\u001b[0m",
      "\u001b[1;31mNameError\u001b[0m                                 Traceback (most recent call last)",
      "Cell \u001b[1;32mIn[112], line 2\u001b[0m\n\u001b[0;32m      1\u001b[0m plt\u001b[38;5;241m.\u001b[39mfigure(figsize\u001b[38;5;241m=\u001b[39m(\u001b[38;5;241m10\u001b[39m, \u001b[38;5;241m8\u001b[39m))\n\u001b[1;32m----> 2\u001b[0m \u001b[38;5;28;01mfor\u001b[39;00m i, (name, matrix) \u001b[38;5;129;01min\u001b[39;00m \u001b[38;5;28menumerate\u001b[39m(conf_matrices\u001b[38;5;241m.\u001b[39mitems()):\n\u001b[0;32m      3\u001b[0m     plt\u001b[38;5;241m.\u001b[39msubplot(\u001b[38;5;241m2\u001b[39m, \u001b[38;5;28mlen\u001b[39m(conf_matrices)\u001b[38;5;241m/\u001b[39m\u001b[38;5;241m/\u001b[39m\u001b[38;5;241m2\u001b[39m, i\u001b[38;5;241m+\u001b[39m\u001b[38;5;241m1\u001b[39m)\n\u001b[0;32m      4\u001b[0m     plt\u001b[38;5;241m.\u001b[39mimshow(matrix, interpolation\u001b[38;5;241m=\u001b[39m\u001b[38;5;124m'\u001b[39m\u001b[38;5;124mnearest\u001b[39m\u001b[38;5;124m'\u001b[39m, cmap\u001b[38;5;241m=\u001b[39mplt\u001b[38;5;241m.\u001b[39mcm\u001b[38;5;241m.\u001b[39mBlues)\n",
      "\u001b[1;31mNameError\u001b[0m: name 'conf_matrices' is not defined"
     ]
    },
    {
     "data": {
      "text/plain": [
       "<Figure size 1000x800 with 0 Axes>"
      ]
     },
     "metadata": {},
     "output_type": "display_data"
    }
   ],
   "source": [
    "plt.figure(figsize=(10, 8))\n",
    "for i, (name, matrix) in enumerate(conf_matrices.items()):\n",
    "    plt.subplot(2, len(conf_matrices)//2, i+1)\n",
    "    plt.imshow(matrix, interpolation='nearest', cmap=plt.cm.Blues)\n",
    "    plt.title(f'Confusion Matrix - {name}')\n",
    "    plt.colorbar()\n",
    "\n",
    "    classes = ['Negative', 'Positive']\n",
    "    tick_marks = np.arange(len(classes))\n",
    "    plt.xticks(tick_marks, classes, rotation=45)\n",
    "    plt.yticks(tick_marks, classes)\n",
    "\n",
    "    thresh = matrix.max() / 2.\n",
    "    for i in range(matrix.shape[0]):\n",
    "        for j in range(matrix.shape[1]):\n",
    "            plt.text(j, i, format(matrix[i, j], 'd'), horizontalalignment=\"center\",\n",
    "                     color=\"white\" if matrix[i, j] > thresh else \"black\")\n",
    "\n",
    "    plt.tight_layout()\n",
    "    plt.ylabel('True label')\n",
    "    plt.xlabel('Predicted label')\n",
    "\n",
    "plt.show()"
   ]
  },
  {
   "cell_type": "code",
   "execution_count": null,
   "id": "f6658c0b",
   "metadata": {},
   "outputs": [
    {
     "ename": "NameError",
     "evalue": "name 'all_metrics' is not defined",
     "output_type": "error",
     "traceback": [
      "\u001b[1;31m---------------------------------------------------------------------------\u001b[0m",
      "\u001b[1;31mNameError\u001b[0m                                 Traceback (most recent call last)",
      "Cell \u001b[1;32mIn[113], line 6\u001b[0m\n\u001b[0;32m      4\u001b[0m r \u001b[38;5;241m=\u001b[39m np\u001b[38;5;241m.\u001b[39marange(\u001b[38;5;28mlen\u001b[39m(classifiers))\n\u001b[0;32m      5\u001b[0m \u001b[38;5;28;01mfor\u001b[39;00m i, metric \u001b[38;5;129;01min\u001b[39;00m \u001b[38;5;28menumerate\u001b[39m(metrics):\n\u001b[1;32m----> 6\u001b[0m     plt\u001b[38;5;241m.\u001b[39mbar(r \u001b[38;5;241m+\u001b[39m i \u001b[38;5;241m*\u001b[39m barWidth, all_metrics[metric], width\u001b[38;5;241m=\u001b[39mbarWidth, edgecolor\u001b[38;5;241m=\u001b[39m\u001b[38;5;124m'\u001b[39m\u001b[38;5;124mwhite\u001b[39m\u001b[38;5;124m'\u001b[39m, label\u001b[38;5;241m=\u001b[39mmetric)\n\u001b[0;32m      8\u001b[0m plt\u001b[38;5;241m.\u001b[39mxlabel(\u001b[38;5;124m'\u001b[39m\u001b[38;5;124mModels\u001b[39m\u001b[38;5;124m'\u001b[39m, fontweight\u001b[38;5;241m=\u001b[39m\u001b[38;5;124m'\u001b[39m\u001b[38;5;124mbold\u001b[39m\u001b[38;5;124m'\u001b[39m)\n\u001b[0;32m      9\u001b[0m plt\u001b[38;5;241m.\u001b[39mxticks(r \u001b[38;5;241m+\u001b[39m barWidth, classifiers\u001b[38;5;241m.\u001b[39mkeys())\n",
      "\u001b[1;31mNameError\u001b[0m: name 'all_metrics' is not defined"
     ]
    },
    {
     "data": {
      "text/plain": [
       "<Figure size 1000x600 with 0 Axes>"
      ]
     },
     "metadata": {},
     "output_type": "display_data"
    }
   ],
   "source": [
    "# Plotting the bar plot for evaluation metrics\n",
    "plt.figure(figsize=(10, 6))\n",
    "barWidth = 0.15\n",
    "r = np.arange(len(classifiers))\n",
    "for i, metric in enumerate(metrics):\n",
    "    plt.bar(r + i * barWidth, all_metrics[metric], width=barWidth, edgecolor='white', label=metric)\n",
    "\n",
    "plt.xlabel('Models', fontweight='bold')\n",
    "plt.xticks(r + barWidth, classifiers.keys())\n",
    "plt.ylabel('Score')\n",
    "plt.title('Evaluation Metrics by Model')\n",
    "plt.legend()\n",
    "plt.show()"
   ]
  },
  {
   "cell_type": "markdown",
   "id": "31383321",
   "metadata": {
    "papermill": {
     "duration": 0.016307,
     "end_time": "2024-04-19T16:59:44.850672",
     "exception": false,
     "start_time": "2024-04-19T16:59:44.834365",
     "status": "completed"
    },
    "tags": []
   },
   "source": [
    "# Hyper_parameter Tuning"
   ]
  },
  {
   "cell_type": "code",
   "execution_count": null,
   "id": "0d08b908",
   "metadata": {
    "execution": {
     "iopub.execute_input": "2024-04-19T16:59:44.884238Z",
     "iopub.status.busy": "2024-04-19T16:59:44.883758Z",
     "iopub.status.idle": "2024-04-19T17:03:39.271005Z",
     "shell.execute_reply": "2024-04-19T17:03:39.268876Z"
    },
    "papermill": {
     "duration": 234.423447,
     "end_time": "2024-04-19T17:03:39.289951",
     "exception": false,
     "start_time": "2024-04-19T16:59:44.866504",
     "status": "completed"
    },
    "tags": []
   },
   "outputs": [
    {
     "name": "stdout",
     "output_type": "stream",
     "text": [
      "Tuning hyperparameters for SGDClassifier...\n",
      "Best parameters for SGDClassifier: {'alpha': 0.0001, 'loss': 'log_loss', 'penalty': 'l1'}\n",
      "Best cross-validation score for SGDClassifier: 0.8114999999999999\n",
      "==================================================\n",
      "Tuning hyperparameters for Logistic Regression...\n",
      "Best parameters for Logistic Regression: {'C': 0.01}\n",
      "Best cross-validation score for Logistic Regression: 0.810375\n",
      "==================================================\n",
      "Tuning hyperparameters for K-Nearest Neighbors...\n",
      "Best parameters for K-Nearest Neighbors: {'n_neighbors': 7}\n",
      "Best cross-validation score for K-Nearest Neighbors: 0.8195\n",
      "==================================================\n",
      "Tuning hyperparameters for Support Vector Machine...\n",
      "Best parameters for Support Vector Machine: {'C': 10, 'gamma': 0.1, 'kernel': 'poly'}\n",
      "Best cross-validation score for Support Vector Machine: 0.8498750000000002\n",
      "==================================================\n",
      "Tuning hyperparameters for Decision Tree...\n",
      "Best parameters for Decision Tree: {'max_depth': 10, 'min_samples_split': 10}\n",
      "Best cross-validation score for Decision Tree: 0.8327500000000001\n",
      "==================================================\n",
      "Tuning hyperparameters for Random Forest...\n",
      "Best parameters for Random Forest: {'max_depth': None, 'min_samples_split': 10, 'n_estimators': 100}\n",
      "Best cross-validation score for Random Forest: 0.857\n",
      "==================================================\n"
     ]
    }
   ],
   "source": [
    "param_grid = {\n",
    "    'Logistic Regression': {'C': [0.001, 0.01, 0.1, 1, 10, 100]},\n",
    "    'K-Nearest Neighbors': {'n_neighbors': [3, 5, 7, 9, 11]},\n",
    "    'Support Vector Machine': {'C': [0.1, 1, 10], 'gamma': [0.1, 0.01, 0.001], 'kernel': ['rbf','linear','poly']},\n",
    "    'Decision Tree': {'max_depth': [None, 10, 20, 30], 'min_samples_split': [2, 5, 10]},\n",
    "    'Random Forest': {'n_estimators': [100, 200, 300], 'max_depth': [None, 10, 20, 30], 'min_samples_split': [2, 5, 10]},\n",
    "    'SGDClassifier': {'loss': ['hinge', 'log_loss'], 'penalty': ['l1', 'l2'], 'alpha': [0.0001, 0.001, 0.01, 0.1]}\n",
    "}\n",
    "\n",
    "\n",
    "\n",
    "# Perform grid search with cross-validation for each classifier\n",
    "for name, model in classifiers.items():\n",
    "    print(f\"Tuning hyperparameters for {name}...\")\n",
    "    grid_search = GridSearchCV(model, param_grid[name], cv=5, n_jobs=-1)\n",
    "    grid_search.fit(X_train, y_train)\n",
    "    print(f\"Best parameters for {name}: {grid_search.best_params_}\")\n",
    "    print(f\"Best cross-validation score for {name}: {grid_search.best_score_}\")\n",
    "    print(\"=\"*50)\n"
   ]
  },
  {
   "cell_type": "code",
   "execution_count": null,
   "id": "235b5211",
   "metadata": {
    "execution": {
     "iopub.execute_input": "2024-04-19T17:03:39.326091Z",
     "iopub.status.busy": "2024-04-19T17:03:39.324794Z",
     "iopub.status.idle": "2024-04-19T17:03:39.333015Z",
     "shell.execute_reply": "2024-04-19T17:03:39.331740Z"
    },
    "papermill": {
     "duration": 0.029919,
     "end_time": "2024-04-19T17:03:39.336248",
     "exception": false,
     "start_time": "2024-04-19T17:03:39.306329",
     "status": "completed"
    },
    "tags": []
   },
   "outputs": [],
   "source": [
    "para_grid = {'n_estimators': [100, 200, 300,500], 'max_depth': [None, 10, 20, 30,50], 'min_samples_split': [2, 5, 10,20]}"
   ]
  },
  {
   "cell_type": "markdown",
   "id": "6c863238",
   "metadata": {
    "papermill": {
     "duration": 0.089978,
     "end_time": "2024-04-19T17:03:39.442685",
     "exception": false,
     "start_time": "2024-04-19T17:03:39.352707",
     "status": "completed"
    },
    "tags": []
   },
   "source": [
    "# Model Evaluation"
   ]
  },
  {
   "cell_type": "code",
   "execution_count": null,
   "id": "5d1e8245",
   "metadata": {
    "execution": {
     "iopub.execute_input": "2024-04-19T17:03:39.478757Z",
     "iopub.status.busy": "2024-04-19T17:03:39.478083Z",
     "iopub.status.idle": "2024-04-19T17:03:39.483819Z",
     "shell.execute_reply": "2024-04-19T17:03:39.482898Z"
    },
    "papermill": {
     "duration": 0.026881,
     "end_time": "2024-04-19T17:03:39.486560",
     "exception": false,
     "start_time": "2024-04-19T17:03:39.459679",
     "status": "completed"
    },
    "tags": []
   },
   "outputs": [],
   "source": [
    "from sklearn.metrics import accuracy_score, precision_score, recall_score, f1_score, roc_auc_score, confusion_matrix\n"
   ]
  },
  {
   "cell_type": "code",
   "execution_count": 34,
   "id": "9e022f89",
   "metadata": {
    "execution": {
     "iopub.execute_input": "2024-04-19T17:03:39.522475Z",
     "iopub.status.busy": "2024-04-19T17:03:39.522050Z",
     "iopub.status.idle": "2024-04-19T17:03:40.437575Z",
     "shell.execute_reply": "2024-04-19T17:03:40.436117Z"
    },
    "papermill": {
     "duration": 0.937494,
     "end_time": "2024-04-19T17:03:40.440793",
     "exception": false,
     "start_time": "2024-04-19T17:03:39.503299",
     "status": "completed"
    },
    "tags": []
   },
   "outputs": [
    {
     "name": "stdout",
     "output_type": "stream",
     "text": [
      "Evaluating SGDClassifier...\n",
      "Evaluation Metrics for SGDClassifier:\n",
      "Accuracy: 0.7975\n",
      "Precision: 0.0\n",
      "Recall: 0.0\n",
      "F1-Score: 0.0\n",
      "ROC AUC: 0.5\n",
      "Confusion Matrix for SGDClassifier:\n",
      "[[1595    0]\n",
      " [ 405    0]]\n",
      "==================================================\n",
      "Evaluating Logistic Regression...\n",
      "Evaluation Metrics for Logistic Regression:\n",
      "Accuracy: 0.8085\n",
      "Precision: 0.5733333333333334\n",
      "Recall: 0.2123456790123457\n",
      "F1-Score: 0.3099099099099099\n",
      "ROC AUC: 0.586110143581408\n",
      "Confusion Matrix for Logistic Regression:\n",
      "[[1531   64]\n",
      " [ 319   86]]\n",
      "==================================================\n",
      "Evaluating K-Nearest Neighbors...\n"
     ]
    },
    {
     "name": "stderr",
     "output_type": "stream",
     "text": [
      "c:\\Users\\User\\anaconda3\\Lib\\site-packages\\sklearn\\metrics\\_classification.py:1344: UndefinedMetricWarning: Precision is ill-defined and being set to 0.0 due to no predicted samples. Use `zero_division` parameter to control this behavior.\n",
      "  _warn_prf(average, modifier, msg_start, len(result))\n"
     ]
    },
    {
     "name": "stdout",
     "output_type": "stream",
     "text": [
      "Evaluation Metrics for K-Nearest Neighbors:\n",
      "Accuracy: 0.817\n",
      "Precision: 0.5719557195571956\n",
      "Recall: 0.38271604938271603\n",
      "F1-Score: 0.45857988165680474\n",
      "ROC AUC: 0.6549943883277216\n",
      "Confusion Matrix for K-Nearest Neighbors:\n",
      "[[1479  116]\n",
      " [ 250  155]]\n",
      "==================================================\n",
      "Evaluating Support Vector Machine...\n",
      "Evaluation Metrics for Support Vector Machine:\n",
      "Accuracy: 0.8545\n",
      "Precision: 0.8131868131868132\n",
      "Recall: 0.3654320987654321\n",
      "F1-Score: 0.504258943781942\n",
      "ROC AUC: 0.6720577421726847\n",
      "Confusion Matrix for Support Vector Machine:\n",
      "[[1561   34]\n",
      " [ 257  148]]\n",
      "==================================================\n",
      "Evaluating Decision Tree...\n",
      "Evaluation Metrics for Decision Tree:\n",
      "Accuracy: 0.7765\n",
      "Precision: 0.4527027027027027\n",
      "Recall: 0.4962962962962963\n",
      "F1-Score: 0.4734982332155477\n",
      "ROC AUC: 0.6719725995588064\n",
      "Confusion Matrix for Decision Tree:\n",
      "[[1352  243]\n",
      " [ 204  201]]\n",
      "==================================================\n",
      "Evaluating Random Forest...\n",
      "Evaluation Metrics for Random Forest:\n",
      "Accuracy: 0.8535\n",
      "Precision: 0.7043795620437956\n",
      "Recall: 0.4765432098765432\n",
      "F1-Score: 0.5684830633284241\n",
      "ROC AUC: 0.712879755408491\n",
      "Confusion Matrix for Random Forest:\n",
      "[[1514   81]\n",
      " [ 212  193]]\n",
      "==================================================\n"
     ]
    }
   ],
   "source": [
    "metrics = ['Accuracy', 'Precision', 'Recall', 'F1-Score', 'ROC AUC']\n",
    "\n",
    "for name, model in classifiers.items():\n",
    "    print(f\"Evaluating {name}...\")\n",
    "    y_pred = model.predict(X_test)\n",
    "\n",
    "    # Calculate evaluation metrics\n",
    "    scores = {\n",
    "        'Accuracy': accuracy_score(y_test, y_pred),\n",
    "        'Precision': precision_score(y_test, y_pred),\n",
    "        'Recall': recall_score(y_test, y_pred),\n",
    "        'F1-Score': f1_score(y_test, y_pred),\n",
    "        'ROC AUC': roc_auc_score(y_test, y_pred)\n",
    "    }\n",
    "    \n",
    "    # Print evaluation metrics\n",
    "    print(f\"Evaluation Metrics for {name}:\")\n",
    "    for metric in metrics:\n",
    "        print(f\"{metric}: {scores[metric]}\")\n",
    "    \n",
    "    # Confusion Matrix\n",
    "    print(f\"Confusion Matrix for {name}:\")\n",
    "    print(confusion_matrix(y_test, y_pred))\n",
    "    \n",
    "    print(\"=\"*50)"
   ]
  },
  {
   "cell_type": "markdown",
   "id": "f4aca306",
   "metadata": {
    "papermill": {
     "duration": 0.01691,
     "end_time": "2024-04-19T17:03:40.476230",
     "exception": false,
     "start_time": "2024-04-19T17:03:40.459320",
     "status": "completed"
    },
    "tags": []
   },
   "source": [
    "Based on the evaluation metrics, the best model appears to be Random Forest so far"
   ]
  },
  {
   "cell_type": "code",
   "execution_count": 37,
   "id": "845e4ad5",
   "metadata": {},
   "outputs": [
    {
     "ename": "AttributeError",
     "evalue": "'ellipsis' object has no attribute 'predict'",
     "output_type": "error",
     "traceback": [
      "\u001b[1;31m---------------------------------------------------------------------------\u001b[0m",
      "\u001b[1;31mAttributeError\u001b[0m                            Traceback (most recent call last)",
      "Cell \u001b[1;32mIn[37], line 12\u001b[0m\n\u001b[0;32m     10\u001b[0m \u001b[38;5;66;03m#Loop through classifiers and calculate scores\u001b[39;00m\n\u001b[0;32m     11\u001b[0m \u001b[38;5;28;01mfor\u001b[39;00m model \u001b[38;5;129;01min\u001b[39;00m classifiers:\n\u001b[1;32m---> 12\u001b[0m     y_pred \u001b[38;5;241m=\u001b[39m model\u001b[38;5;241m.\u001b[39mpredict(X_test)\n\u001b[0;32m     13\u001b[0m     scores \u001b[38;5;241m=\u001b[39m {\n\u001b[0;32m     14\u001b[0m         \u001b[38;5;124m'\u001b[39m\u001b[38;5;124mAccuracy\u001b[39m\u001b[38;5;124m'\u001b[39m: accuracy_score(y_test, y_pred),\n\u001b[0;32m     15\u001b[0m         \u001b[38;5;124m'\u001b[39m\u001b[38;5;124mPrecision\u001b[39m\u001b[38;5;124m'\u001b[39m: precision_score(y_test, y_pred),\n\u001b[1;32m   (...)\u001b[0m\n\u001b[0;32m     18\u001b[0m         \u001b[38;5;124m'\u001b[39m\u001b[38;5;124mROC AUC\u001b[39m\u001b[38;5;124m'\u001b[39m: roc_auc_score(y_test, y_pred)\n\u001b[0;32m     19\u001b[0m     }\n\u001b[0;32m     20\u001b[0m     \u001b[38;5;66;03m# Store scores for each metric\u001b[39;00m\n",
      "\u001b[1;31mAttributeError\u001b[0m: 'ellipsis' object has no attribute 'predict'"
     ]
    }
   ],
   "source": [
    "import matplotlib.pyplot as plt\n",
    "\n",
    "# Define classifiers and evaluation metrics (assuming you've already defined these)\n",
    "classifiers = {...}  # Dictionary containing your classifiers\n",
    "metrics = ['Accuracy', 'Precision', 'Recall', 'F1-Score', 'ROC AUC']\n",
    "\n",
    "# Initialize dictionaries to store scores for each metric\n",
    "metric_scores = {metric: [] for metric in metrics}\n",
    "\n",
    "#Loop through classifiers and calculate scores\n",
    "for model in classifiers:\n",
    "    y_pred = model.predict(X_test)\n",
    "    scores = {\n",
    "        'Accuracy': accuracy_score(y_test, y_pred),\n",
    "        'Precision': precision_score(y_test, y_pred),\n",
    "        'Recall': recall_score(y_test, y_pred),\n",
    "        'F1-Score': f1_score(y_test, y_pred),\n",
    "        'ROC AUC': roc_auc_score(y_test, y_pred)\n",
    "    }\n",
    "    # Store scores for each metric\n",
    "    for metric in metrics:\n",
    "        metric_scores[metric].append(scores[metric])\n",
    "\n",
    "# Plotting\n",
    "plt.figure(figsize=(10, 6))\n",
    "bar_width = 0.15\n",
    "index = range(len(classifiers))\n",
    "\n",
    "for i, metric in enumerate(metrics):\n",
    "    plt.bar([x + i * bar_width for x in index], metric_scores[metric], bar_width, label=metric)\n",
    "\n",
    "plt.xlabel('Classifiers')\n",
    "plt.ylabel('Scores')\n",
    "plt.title('Evaluation Metrics for Different Classifiers')\n",
    "plt.xticks([i + 2 * bar_width for i in index], range(len(classifiers)))\n",
    "plt.legend()"
   ]
  },
  {
   "cell_type": "markdown",
   "id": "49bd336f",
   "metadata": {
    "papermill": {
     "duration": 0.016803,
     "end_time": "2024-04-19T17:03:40.510255",
     "exception": false,
     "start_time": "2024-04-19T17:03:40.493452",
     "status": "completed"
    },
    "tags": []
   },
   "source": [
    "# Applying Neural Network"
   ]
  },
  {
   "cell_type": "code",
   "execution_count": 2,
   "id": "a357061b",
   "metadata": {
    "execution": {
     "iopub.execute_input": "2024-04-19T17:03:40.547970Z",
     "iopub.status.busy": "2024-04-19T17:03:40.547269Z",
     "iopub.status.idle": "2024-04-19T17:03:40.564945Z",
     "shell.execute_reply": "2024-04-19T17:03:40.563597Z"
    },
    "papermill": {
     "duration": 0.040523,
     "end_time": "2024-04-19T17:03:40.568389",
     "exception": false,
     "start_time": "2024-04-19T17:03:40.527866",
     "status": "completed"
    },
    "tags": []
   },
   "outputs": [],
   "source": [
    "from sklearn.neural_network import MLPClassifier\n"
   ]
  },
  {
   "cell_type": "code",
   "execution_count": 3,
   "id": "af3eb221",
   "metadata": {
    "execution": {
     "iopub.execute_input": "2024-04-19T17:03:40.605759Z",
     "iopub.status.busy": "2024-04-19T17:03:40.605248Z",
     "iopub.status.idle": "2024-04-19T17:03:55.409889Z",
     "shell.execute_reply": "2024-04-19T17:03:55.407960Z"
    },
    "papermill": {
     "duration": 14.829009,
     "end_time": "2024-04-19T17:03:55.415043",
     "exception": false,
     "start_time": "2024-04-19T17:03:40.586034",
     "status": "completed"
    },
    "tags": []
   },
   "outputs": [
    {
     "ename": "NameError",
     "evalue": "name 'X_train' is not defined",
     "output_type": "error",
     "traceback": [
      "\u001b[1;31m---------------------------------------------------------------------------\u001b[0m",
      "\u001b[1;31mNameError\u001b[0m                                 Traceback (most recent call last)",
      "Cell \u001b[1;32mIn[3], line 3\u001b[0m\n\u001b[0;32m      1\u001b[0m \u001b[38;5;66;03m# Neural Network\u001b[39;00m\n\u001b[0;32m      2\u001b[0m nn_model \u001b[38;5;241m=\u001b[39m MLPClassifier()\n\u001b[1;32m----> 3\u001b[0m nn_model\u001b[38;5;241m.\u001b[39mfit(X_train, y_train)\n\u001b[0;32m      4\u001b[0m nn_predictions \u001b[38;5;241m=\u001b[39m nn_model\u001b[38;5;241m.\u001b[39mpredict(X_test)\n",
      "\u001b[1;31mNameError\u001b[0m: name 'X_train' is not defined"
     ]
    }
   ],
   "source": [
    "# Neural Network\n",
    "nn_model = MLPClassifier()\n",
    "nn_model.fit(X_train, y_train)\n",
    "nn_predictions = nn_model.predict(X_test)"
   ]
  },
  {
   "cell_type": "code",
   "execution_count": 1,
   "id": "9426bc69",
   "metadata": {
    "execution": {
     "iopub.execute_input": "2024-04-19T17:03:55.495820Z",
     "iopub.status.busy": "2024-04-19T17:03:55.495006Z",
     "iopub.status.idle": "2024-04-19T17:03:55.529010Z",
     "shell.execute_reply": "2024-04-19T17:03:55.527327Z"
    },
    "papermill": {
     "duration": 0.07743,
     "end_time": "2024-04-19T17:03:55.532044",
     "exception": false,
     "start_time": "2024-04-19T17:03:55.454614",
     "status": "completed"
    },
    "tags": []
   },
   "outputs": [
    {
     "ename": "NameError",
     "evalue": "name 'y_test' is not defined",
     "output_type": "error",
     "traceback": [
      "\u001b[1;31m---------------------------------------------------------------------------\u001b[0m",
      "\u001b[1;31mNameError\u001b[0m                                 Traceback (most recent call last)",
      "Cell \u001b[1;32mIn[1], line 4\u001b[0m\n\u001b[0;32m      1\u001b[0m \u001b[38;5;28;01mfrom\u001b[39;00m \u001b[38;5;21;01msklearn\u001b[39;00m\u001b[38;5;21;01m.\u001b[39;00m\u001b[38;5;21;01mmetrics\u001b[39;00m \u001b[38;5;28;01mimport\u001b[39;00m accuracy_score, precision_score, recall_score, f1_score, confusion_matrix\n\u001b[0;32m      3\u001b[0m \u001b[38;5;66;03m# Calculate evaluation metrics\u001b[39;00m\n\u001b[1;32m----> 4\u001b[0m accuracy \u001b[38;5;241m=\u001b[39m accuracy_score(y_test, nn_predictions)\n\u001b[0;32m      5\u001b[0m precision \u001b[38;5;241m=\u001b[39m precision_score(y_test, nn_predictions)\n\u001b[0;32m      6\u001b[0m recall \u001b[38;5;241m=\u001b[39m recall_score(y_test, nn_predictions)\n",
      "\u001b[1;31mNameError\u001b[0m: name 'y_test' is not defined"
     ]
    }
   ],
   "source": [
    "from sklearn.metrics import accuracy_score, precision_score, recall_score, f1_score, confusion_matrix\n",
    "\n",
    "# Calculate evaluation metrics\n",
    "accuracy = accuracy_score(y_test, nn_predictions)\n",
    "precision = precision_score(y_test, nn_predictions)\n",
    "recall = recall_score(y_test, nn_predictions)\n",
    "f1 = f1_score(y_test, nn_predictions)\n",
    "conf_matrix = confusion_matrix(y_test, nn_predictions)\n",
    "\n",
    "# Print evaluation metrics\n",
    "print(\"Evaluation Metrics for MLPClassifier:\")\n",
    "print(f\"Accuracy: {accuracy}\")\n",
    "print(f\"Precision: {precision}\")\n",
    "print(f\"Recall: {recall}\")\n",
    "print(f\"F1-Score: {f1}\")\n",
    "print(\"Confusion Matrix:\")\n",
    "print(conf_matrix)\n"
   ]
  },
  {
   "cell_type": "code",
   "execution_count": null,
   "id": "595aff16",
   "metadata": {
    "papermill": {
     "duration": 0.01742,
     "end_time": "2024-04-19T17:03:55.566935",
     "exception": false,
     "start_time": "2024-04-19T17:03:55.549515",
     "status": "completed"
    },
    "tags": []
   },
   "outputs": [],
   "source": []
  }
 ],
 "metadata": {
  "kaggle": {
   "accelerator": "none",
   "dataSources": [
    {
     "datasetId": 4766255,
     "sourceId": 8076321,
     "sourceType": "datasetVersion"
    }
   ],
   "isGpuEnabled": false,
   "isInternetEnabled": true,
   "language": "python",
   "sourceType": "notebook"
  },
  "kernelspec": {
   "display_name": "datas",
   "language": "python",
   "name": "python3"
  },
  "language_info": {
   "codemirror_mode": {
    "name": "ipython",
    "version": 3
   },
   "file_extension": ".py",
   "mimetype": "text/x-python",
   "name": "python",
   "nbconvert_exporter": "python",
   "pygments_lexer": "ipython3",
   "version": "3.11.7"
  },
  "papermill": {
   "default_parameters": {},
   "duration": 267.716317,
   "end_time": "2024-04-19T17:03:58.207789",
   "environment_variables": {},
   "exception": null,
   "input_path": "__notebook__.ipynb",
   "output_path": "__notebook__.ipynb",
   "parameters": {},
   "start_time": "2024-04-19T16:59:30.491472",
   "version": "2.5.0"
  }
 },
 "nbformat": 4,
 "nbformat_minor": 5
}
